{
 "cells": [
  {
   "attachments": {},
   "cell_type": "markdown",
   "metadata": {},
   "source": [
    "# Evaluate Dynamic Factor Model\n",
    "\n",
    "This notebook estimates large mixed-frequency (blocked) Dynamic Factor Models following [Bańbura and Modugno, (2014)](https://onlinelibrary.wiley.com/doi/full/10.1002/jae.2306) and [Bok et al. (2018)](https://www.newyorkfed.org/research/staff_reports/sr830), in Python using the `DynamicFactorMQ` class in [statsmodels](https://www.statsmodels.org/dev/generated/statsmodels.tsa.statespace.dynamic_factor_mq.DynamicFactorMQ.html). GDP in log-differences is the only quarterly variable, taken from the FRED MQ dataset. The other variables are taken from the FRED-MD dataset and transformed using the transformations suggested in the data appendix. The ground truth estimate is GDP from the 2023-02 vintage. \n",
    "\n",
    "\n",
    "\n"
   ]
  },
  {
   "attachments": {},
   "cell_type": "markdown",
   "metadata": {},
   "source": [
    "### Setup"
   ]
  },
  {
   "cell_type": "code",
   "execution_count": null,
   "metadata": {},
   "outputs": [],
   "source": [
    "# Libraries\n",
    "import os\n",
    "import numpy as np\n",
    "import pandas as pd\n",
    "from statsmodels.tsa.api import DynamicFactorMQ\n",
    "import matplotlib.pyplot as plt\n",
    "# Some useful functions\n",
    "def inspect_obj(obj):\n",
    "    return [x for x in dir(obj) if not x.startswith(\"_\")] "
   ]
  },
  {
   "attachments": {},
   "cell_type": "markdown",
   "metadata": {},
   "source": [
    "### Loading Data"
   ]
  },
  {
   "cell_type": "code",
   "execution_count": null,
   "metadata": {},
   "outputs": [],
   "source": [
    "data_path = \"../../data/FRED/\"\n",
    "# Vintage Data\n",
    "monthly_vintages = sorted(os.listdir(data_path + \"MD\"))\n",
    "quarterly_vintages = sorted(os.listdir(data_path + \"QD\"))\n",
    "if monthly_vintages != quarterly_vintages:\n",
    "    raise Exception(\"Monthly and quarterly vintage mismatch\")\n",
    "\n",
    "def clean_names(x):\n",
    "    new_nam = {y: y.replace(\" \", \"\").upper() for y in x.columns}\n",
    "    return x.rename(columns = new_nam)\n",
    "\n",
    "# Load Monthly Data\n",
    "vintage_data = {v[8:15]: dict(\n",
    "    monthly = clean_names(pd.read_csv(data_path + \"MD/\" + v, index_col=0, parse_dates=True).to_period(freq=\"M\")), \n",
    "    gdp = pd.read_csv(data_path + \"QD/\" + v, index_col=0, parse_dates=True).to_period(freq=\"Q\")[[\"GDPC1\"]]\n",
    ") for v in monthly_vintages}\n",
    "\n",
    "vintage_data.keys()"
   ]
  },
  {
   "attachments": {},
   "cell_type": "markdown",
   "metadata": {},
   "source": [
    "#### Plotting GDP Data"
   ]
  },
  {
   "cell_type": "code",
   "execution_count": null,
   "metadata": {},
   "outputs": [],
   "source": [
    "# This plots the ground truth data\n",
    "vintage_data[\"2023_02\"][\"gdp\"].plot(title=\"Real GDP Growth, 2023-02 Vintage\", figsize=(12, 6))"
   ]
  },
  {
   "cell_type": "code",
   "execution_count": null,
   "metadata": {},
   "outputs": [],
   "source": [
    "# This gets all the GDP estimates\n",
    "gdp_all = vintage_data[\"2018_05\"][\"gdp\"].drop(\"GDPC1\", axis=1)\n",
    "for k, v in vintage_data.items():\n",
    "    gdp_all = gdp_all.merge(v[\"gdp\"].rename(columns = {\"GDPC1\": k}), \n",
    "                            how='outer', left_index=True, right_index=True)\n",
    "\n",
    "gdp_all.head()\n"
   ]
  },
  {
   "cell_type": "code",
   "execution_count": null,
   "metadata": {},
   "outputs": [],
   "source": [
    "# Plotting all estimates\n",
    "ax = gdp_all.plot(title=\"GDP Growth Estimate from All Vintages\", figsize=(12, 6), linewidth = 0.2)\n",
    "ax.legend(ncol=7)\n",
    "plt.show()"
   ]
  },
  {
   "cell_type": "code",
   "execution_count": null,
   "metadata": {},
   "outputs": [],
   "source": [
    "# ax.get_figure().savefig(\"figures/GDP_all_vintages.png\", dpi = 300, bbox_inches = \"tight\")\n",
    "ax.get_figure().savefig(\"figures/GDP_all_vintages.pdf\", format = \"pdf\", bbox_inches = \"tight\")"
   ]
  },
  {
   "attachments": {},
   "cell_type": "markdown",
   "metadata": {},
   "source": [
    "### Labels and Factor Groupings"
   ]
  },
  {
   "cell_type": "code",
   "execution_count": null,
   "metadata": {},
   "outputs": [],
   "source": [
    "# Loading Series Descriptions\n",
    "series = pd.read_csv(data_path + \"FRED-MD Appendix/FRED-MD_updated_appendix.csv\", \n",
    "                     encoding_errors=\"ignore\")\n",
    "series.fred = series.fred.transform(lambda y: y.replace(\" \", \"\").upper())\n",
    "series.groupby(\"group_name\").id.count()"
   ]
  },
  {
   "cell_type": "code",
   "execution_count": null,
   "metadata": {},
   "outputs": [],
   "source": [
    "# Factor Groupings\n",
    "factors = {l: ['Global', v] for l, v in zip(series.fred, series.group_name)}\n",
    "factors[\"GDPC1\"] = ['Global', 'Output and Income']"
   ]
  },
  {
   "cell_type": "markdown",
   "metadata": {},
   "source": [
    "**Factor multiplicities**\n",
    "\n",
    "The `factor_multiplicities` argument defaults to `1`, but it can be passed a dictionary with keys equal to factor names (from the `factors` argument) and values equal to an integer. Note that the default for each factor is 1, so we only include in this dictionary factors that have multiplicity greater than 1."
   ]
  },
  {
   "cell_type": "code",
   "execution_count": null,
   "metadata": {},
   "outputs": [],
   "source": [
    "factor_multiplicities = {'Global': 2,\n",
    "                         'Consumption, Orders, and Inventories': 2,\n",
    "                         'Money and Credit': 2,\n",
    "                         'Interest and Exchange Rates': 2}"
   ]
  },
  {
   "cell_type": "markdown",
   "metadata": {},
   "source": [
    "**Factor orders**\n",
    "\n",
    "Finally, we need to specify the lag order of the (vector) autoregressions that govern the dynamics of the factors. This is done via the `factor_orders` argument. The `factor_orders` argument also defaults to `1`,"
   ]
  },
  {
   "cell_type": "code",
   "execution_count": null,
   "metadata": {},
   "outputs": [],
   "source": [
    "factor_orders = {'Global': 4, \n",
    "                 'Consumption, Orders, and Inventories': 4,  \n",
    "                 'Housing': 2,\n",
    "                 'Interest and Exchange Rates': 3, \n",
    "                 'Money and Credit': 4,\n",
    "                 'Output and Income': 2}"
   ]
  },
  {
   "cell_type": "code",
   "execution_count": null,
   "metadata": {},
   "outputs": [],
   "source": [
    "dfm_blocked_2023_02 = DynamicFactorMQ(endog = vintage_data[\"2023_02\"][\"monthly\"], \n",
    "                              endog_quarterly = vintage_data[\"2023_02\"][\"gdp\"], \n",
    "                              factors = factors, \n",
    "                              factor_multiplicities = factor_multiplicities, \n",
    "                              factor_orders = factor_orders)"
   ]
  },
  {
   "cell_type": "code",
   "execution_count": null,
   "metadata": {},
   "outputs": [],
   "source": [
    "dfm_blocked_2023_02.summary()"
   ]
  },
  {
   "cell_type": "code",
   "execution_count": null,
   "metadata": {},
   "outputs": [],
   "source": [
    "blocked_results_2023_02 = dfm_blocked_2023_02.fit(disp = 10)"
   ]
  },
  {
   "cell_type": "code",
   "execution_count": null,
   "metadata": {},
   "outputs": [],
   "source": [
    "# Another model without separate blocks but 9 global factors\n",
    "dfm_global_2023_02 = DynamicFactorMQ(endog = vintage_data[\"2023_02\"][\"monthly\"], \n",
    "                                     endog_quarterly = vintage_data[\"2023_02\"][\"gdp\"], \n",
    "                                     factors = 1, \n",
    "                                     factor_orders = 3, \n",
    "                                     factor_multiplicities = 9) "
   ]
  },
  {
   "cell_type": "code",
   "execution_count": null,
   "metadata": {},
   "outputs": [],
   "source": [
    "dfm_global_2023_02.summary()"
   ]
  },
  {
   "cell_type": "code",
   "execution_count": null,
   "metadata": {},
   "outputs": [],
   "source": [
    "global_results_2023_02 = dfm_global_2023_02.fit(disp = 10)"
   ]
  },
  {
   "attachments": {},
   "cell_type": "markdown",
   "metadata": {},
   "source": [
    "### Plotting Factor Estimates"
   ]
  },
  {
   "cell_type": "code",
   "execution_count": null,
   "metadata": {},
   "outputs": [],
   "source": [
    "blocked_results_2023_02.factors.smoothed.plot(title = \"Factors from Bocked DFM\", figsize = (12, 6))"
   ]
  },
  {
   "cell_type": "code",
   "execution_count": null,
   "metadata": {},
   "outputs": [],
   "source": [
    "global_results_2023_02.factors.smoothed.plot(title = \"Factors from Global DFM\", figsize = (12, 6))"
   ]
  },
  {
   "attachments": {},
   "cell_type": "markdown",
   "metadata": {},
   "source": [
    "### Explanatory Power of Factors"
   ]
  },
  {
   "cell_type": "code",
   "execution_count": null,
   "metadata": {},
   "outputs": [],
   "source": [
    "group_counts = series[['fred', 'group_name']].groupby('group_name', sort=False).count()['fred'].cumsum()\n",
    "\n",
    "def plot_r2_joint(results, group_counts):\n",
    "\n",
    "    # with sns.color_palette('deep'):\n",
    "    fig = results.plot_coefficients_of_determination(method='joint', figsize=(14, 3));\n",
    "\n",
    "    # Add in group labels\n",
    "    ax = fig.axes[0]\n",
    "    ax.set_ylim(0, 1.2)\n",
    "    for i in np.arange(1, len(group_counts), 2):\n",
    "        start = 0 if i == 0 else group_counts[i - 1]\n",
    "        end = group_counts[i] + 1\n",
    "        ax.fill_between(np.arange(start, end) - 0.6, 0, 1.2, color='k', alpha=0.1)\n",
    "    for i in range(len(group_counts)):\n",
    "        start = 0 if i == 0 else group_counts[i - 1]\n",
    "        end = group_counts[i]\n",
    "        n = end - start\n",
    "        text = group_counts.index[i]\n",
    "        if len(text) > n:\n",
    "            text = text[:n - 3] + '...'\n",
    "\n",
    "        ax.annotate(text, (start + n / 2, 1.1), ha='center')\n",
    "\n",
    "    # Add label for GDP\n",
    "    ax.set_xlim(-1.5, results.data.endog.shape[1] + 0.5)\n",
    "    ax.annotate('GDP', (results.data.endog.shape[1] - 1.1, 1.05), ha='left', rotation=90)\n",
    "\n",
    "    fig.tight_layout();"
   ]
  },
  {
   "cell_type": "code",
   "execution_count": null,
   "metadata": {},
   "outputs": [],
   "source": [
    "plot_r2_joint(blocked_results_2023_02, group_counts)"
   ]
  },
  {
   "cell_type": "code",
   "execution_count": null,
   "metadata": {},
   "outputs": [],
   "source": [
    "plot_r2_joint(global_results_2023_02, group_counts)"
   ]
  },
  {
   "attachments": {},
   "cell_type": "markdown",
   "metadata": {},
   "source": [
    "### DFM Predictions"
   ]
  },
  {
   "cell_type": "code",
   "execution_count": null,
   "metadata": {},
   "outputs": [],
   "source": [
    "def plot_prediction(prediction_results, variables, data):\n",
    "\n",
    "    # The `predicted_mean` attribute gives the same\n",
    "    # point forecasts that would have been returned from\n",
    "    # using the `predict` or `forecast` methods.\n",
    "    point_predictions = prediction_results.predicted_mean[variables]\n",
    "    start = point_predictions.index[0]\n",
    "    latest = data.index[-1]\n",
    "\n",
    "    # We can use the `conf_int` method to get confidence\n",
    "    # intervals; here, the 95% confidence interval\n",
    "    ci = prediction_results.conf_int(alpha=0.05)\n",
    "    lower = ci[[f'lower {name}' for name in variables]]\n",
    "    upper = ci[[f'upper {name}' for name in variables]]\n",
    "\n",
    "\n",
    "    # Plot the forecasts and confidence intervals\n",
    "    # with sns.color_palette('deep'):\n",
    "    fig, ax = plt.subplots(figsize=(14, 4))\n",
    "\n",
    "    # Plot actual data\n",
    "    data.loc[start:, variables].plot(ax=ax, linestyle='solid',\n",
    "                                        color=['C0', 'C1', 'C2'])\n",
    "\n",
    "    # Plot the predictions\n",
    "    point_predictions.plot(ax=ax, linestyle='dashed',\n",
    "                            color=['C0', 'C1', 'C2'],\n",
    "                            legend=False)\n",
    "\n",
    "    # Confidence intervals\n",
    "    for name in variables:\n",
    "        ax.fill_between(ci.index,\n",
    "                        lower[f'lower {name}'],\n",
    "                        upper[f'upper {name}'], alpha=0.1)\n",
    "        \n",
    "    # Forecast period, set title\n",
    "    ylim = ax.get_ylim()\n",
    "    ax.vlines(latest, ylim[0], ylim[1], linewidth=1)\n",
    "    ax.annotate(r' Forecast $\\rightarrow$', (latest, -1.7))\n",
    "    ax.set(title='In-sample predictions and out-of-sample forecasts, with 95% confidence intervals', ylim=ylim)\n",
    "    \n",
    "    fig.tight_layout()\n",
    "\n",
    "def monthly_index(x):\n",
    "    x = x.copy()\n",
    "    x.index = pd.PeriodIndex(x.index, freq=\"M\")\n",
    "    return x"
   ]
  },
  {
   "cell_type": "code",
   "execution_count": null,
   "metadata": {},
   "outputs": [],
   "source": [
    "blocked_prediction_2023_02 = blocked_results_2023_02.get_prediction(start='2000', end='2024')\n",
    "global_prediction_2023_02 = global_results_2023_02.get_prediction(start='2000', end='2024')"
   ]
  },
  {
   "cell_type": "code",
   "execution_count": null,
   "metadata": {},
   "outputs": [],
   "source": [
    "plot_prediction(blocked_prediction_2023_02, ['GDPC1'], monthly_index(vintage_data[\"2023_02\"][\"gdp\"]))"
   ]
  },
  {
   "cell_type": "code",
   "execution_count": null,
   "metadata": {},
   "outputs": [],
   "source": [
    "plot_prediction(global_prediction_2023_02, ['GDPC1'], monthly_index(vintage_data[\"2023_02\"][\"gdp\"]))"
   ]
  },
  {
   "attachments": {},
   "cell_type": "markdown",
   "metadata": {},
   "source": [
    "### Model Evaluation\n",
    "\n",
    "To Evaluate Model Performance, we pedict GDP using models trained on all vintages for a fixed period from 2000 to 2014, each time saving the date GDP was last available."
   ]
  },
  {
   "cell_type": "code",
   "execution_count": null,
   "metadata": {},
   "outputs": [],
   "source": [
    "all_predictions = {}"
   ]
  },
  {
   "cell_type": "code",
   "execution_count": null,
   "metadata": {},
   "outputs": [],
   "source": [
    "variables = list(factors.keys())\n",
    "\n",
    "for k, v in vintage_data.items():\n",
    "    print(k)\n",
    "    columns = list(v[\"monthly\"].columns)\n",
    "    dfm_blocked = DynamicFactorMQ(endog = v[\"monthly\"][[x for x in columns if x in variables]], \n",
    "                                  endog_quarterly = v[\"gdp\"], \n",
    "                                  factors = {k: v for k, v in factors.items() if k in columns + [\"GDPC1\"]}, \n",
    "                                  factor_multiplicities = factor_multiplicities, \n",
    "                                  factor_orders = factor_orders)\n",
    "    blocked_results = dfm_blocked.fit()\n",
    "    blocked_prediction = blocked_results.get_prediction(start='2000', end='2024')\n",
    "    \n",
    "    dfm_global = DynamicFactorMQ(endog = v[\"monthly\"], \n",
    "                                 endog_quarterly = v[\"gdp\"], \n",
    "                                 factors = 1, \n",
    "                                 factor_orders = 3, \n",
    "                                 factor_multiplicities = 9)\n",
    "    global_results = dfm_global.fit()\n",
    "    global_prediction = global_results.get_prediction(start='2000', end='2024')\n",
    "\n",
    "    all_predictions[k] = dict(blocked_dfm = blocked_prediction.summary_frame(endog = -1),\n",
    "                              global_dfm = global_prediction.summary_frame(endog = -1), \n",
    "                              gdp = v[\"gdp\"],\n",
    "                              gdp_latest = str(v[\"gdp\"].index[-1]))\n"
   ]
  },
  {
   "cell_type": "code",
   "execution_count": null,
   "metadata": {},
   "outputs": [],
   "source": [
    "blocked_dfm_long = pd.concat({k:v[\"blocked_dfm\"].assign(latest_gdp = v[\"gdp_latest\"]) for k, v in all_predictions.items()}) \\\n",
    "          .reset_index(level=0, names = \"vintage\")"
   ]
  },
  {
   "cell_type": "code",
   "execution_count": null,
   "metadata": {},
   "outputs": [],
   "source": [
    "global_dfm_long = pd.concat({k:v[\"global_dfm\"].assign(latest_gdp = v[\"gdp_latest\"]) for k, v in all_predictions.items()}) \\\n",
    "          .reset_index(level=0, names = \"vintage\")"
   ]
  },
  {
   "cell_type": "code",
   "execution_count": null,
   "metadata": {},
   "outputs": [],
   "source": [
    "os.makedirs('results', exist_ok=True)\n",
    "blocked_dfm_long.to_csv(\"results/blocked_dfm_long.csv\", index_label=\"year_month\")\n",
    "global_dfm_long.to_csv(\"results/global_dfm_long.csv\", index_label=\"year_month\")"
   ]
  }
 ],
 "metadata": {
  "kernelspec": {
   "display_name": "Python 3",
   "language": "python",
   "name": "python3"
  },
  "language_info": {
   "codemirror_mode": {
    "name": "ipython",
    "version": 3
   },
   "file_extension": ".py",
   "mimetype": "text/x-python",
   "name": "python",
   "nbconvert_exporter": "python",
   "pygments_lexer": "ipython3",
   "version": "3.10.10"
  },
  "orig_nbformat": 4
 },
 "nbformat": 4,
 "nbformat_minor": 2
}
